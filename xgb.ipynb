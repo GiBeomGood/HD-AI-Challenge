{
 "cells": [
  {
   "cell_type": "markdown",
   "metadata": {},
   "source": [
    "# Simple Modeling"
   ]
  },
  {
   "cell_type": "code",
   "execution_count": null,
   "metadata": {},
   "outputs": [],
   "source": [
    "import numpy as np\n",
    "import pandas as pd\n",
    "from tqdm import tqdm\n",
    "\n",
    "from sklearn.model_selection import train_test_split, GridSearchCV\n",
    "from sklearn.metrics import r2_score, mean_absolute_error, accuracy_score, roc_auc_score\n",
    "import xgboost as xgb\n",
    "from xgboost import XGBRegressor, XGBClassifier"
   ]
  },
  {
   "cell_type": "code",
   "execution_count": null,
   "metadata": {},
   "outputs": [],
   "source": [
    "x_train = pd.read_csv('data/train_preprocessed.csv')\n",
    "x_test = pd.read_csv('data/test_preprocessed.csv')\n",
    "x_train.head()"
   ]
  },
  {
   "cell_type": "code",
   "execution_count": null,
   "metadata": {},
   "outputs": [],
   "source": [
    "drop_columns = ['ATA', 'FLAG', 'SHIPMANAGER', 'U_WIND', 'V_WIND', 'AIR_TEMPERATURE', 'BN', 'ARI']\n",
    "x_train.drop(columns=drop_columns, inplace=True)\n",
    "x_test.drop(columns=drop_columns, inplace=True)"
   ]
  },
  {
   "cell_type": "code",
   "execution_count": null,
   "metadata": {},
   "outputs": [],
   "source": [
    "x_train = x_train.loc[x_train.DIST!=0, :]\n",
    "x_test = x_test.loc[x_test.DIST!=0, :]\n",
    "\n",
    "y_train = x_train.CI_HOUR.copy()\n",
    "y_train = np.log(y_train + 1)"
   ]
  },
  {
   "cell_type": "code",
   "execution_count": null,
   "metadata": {},
   "outputs": [],
   "source": [
    "param_grid = {\n",
    "    'n_estimators': [100, 200],\n",
    "    'max_depth': [5, 6, 7],\n",
    "    'colsample_bylevel': [0.8, 0.9, 1.0],\n",
    "    'colsample_bynode': [0.8, 0.9, 1.0],\n",
    "    'gamma': [0, 0.2, 0.4],\n",
    "    'alpha': [0, 0.1, 0.01],\n",
    "    'lambda': [0, 0.1, 0.01],\n",
    "}\n",
    "model = XGBRegressor(tree_method='gpu_hist', objective='reg:absoluteerror')\n",
    "grid_search = GridSearchCV(model, param_grid=param_grid, scoring='neg_mean_absolute_error', verbose=3, cv=5)"
   ]
  },
  {
   "cell_type": "code",
   "execution_count": null,
   "metadata": {},
   "outputs": [],
   "source": [
    "grid_search.fit(x_train, y_train)"
   ]
  },
  {
   "cell_type": "code",
   "execution_count": null,
   "metadata": {},
   "outputs": [],
   "source": []
  }
 ],
 "metadata": {
  "kernelspec": {
   "display_name": "kwon",
   "language": "python",
   "name": "python3"
  },
  "language_info": {
   "codemirror_mode": {
    "name": "ipython",
    "version": 3
   },
   "file_extension": ".py",
   "mimetype": "text/x-python",
   "name": "python",
   "nbconvert_exporter": "python",
   "pygments_lexer": "ipython3",
   "version": "3.11.2"
  },
  "orig_nbformat": 4
 },
 "nbformat": 4,
 "nbformat_minor": 2
}
