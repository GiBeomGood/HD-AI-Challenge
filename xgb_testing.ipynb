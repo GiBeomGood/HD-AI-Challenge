{
 "cells": [
  {
   "cell_type": "code",
   "execution_count": 1,
   "metadata": {},
   "outputs": [],
   "source": [
    "import numpy as np\n",
    "import pandas as pd\n",
    "import pickle\n",
    "\n",
    "from xgboost import XGBRegressor\n",
    "from submitter import xgb_submitter"
   ]
  },
  {
   "cell_type": "code",
   "execution_count": 2,
   "metadata": {},
   "outputs": [],
   "source": [
    "with open('checkpoints/best_model.xgb', 'rb') as f:\n",
    "    best_model = pickle.load(f)\n",
    "\n",
    "y_test = xgb_submitter(best_model, save_path='data/xgb_submission.csv')"
   ]
  },
  {
   "cell_type": "code",
   "execution_count": 3,
   "metadata": {},
   "outputs": [
    {
     "data": {
      "text/html": [
       "<div>\n",
       "<style scoped>\n",
       "    .dataframe tbody tr th:only-of-type {\n",
       "        vertical-align: middle;\n",
       "    }\n",
       "\n",
       "    .dataframe tbody tr th {\n",
       "        vertical-align: top;\n",
       "    }\n",
       "\n",
       "    .dataframe thead th {\n",
       "        text-align: right;\n",
       "    }\n",
       "</style>\n",
       "<table border=\"1\" class=\"dataframe\">\n",
       "  <thead>\n",
       "    <tr style=\"text-align: right;\">\n",
       "      <th></th>\n",
       "      <th>SAMPLE_ID</th>\n",
       "      <th>CI_HOUR</th>\n",
       "    </tr>\n",
       "  </thead>\n",
       "  <tbody>\n",
       "    <tr>\n",
       "      <th>0</th>\n",
       "      <td>TEST_000000</td>\n",
       "      <td>21.710665</td>\n",
       "    </tr>\n",
       "    <tr>\n",
       "      <th>1</th>\n",
       "      <td>TEST_000001</td>\n",
       "      <td>83.465950</td>\n",
       "    </tr>\n",
       "    <tr>\n",
       "      <th>2</th>\n",
       "      <td>TEST_000002</td>\n",
       "      <td>0.000000</td>\n",
       "    </tr>\n",
       "    <tr>\n",
       "      <th>3</th>\n",
       "      <td>TEST_000003</td>\n",
       "      <td>0.000000</td>\n",
       "    </tr>\n",
       "    <tr>\n",
       "      <th>4</th>\n",
       "      <td>TEST_000004</td>\n",
       "      <td>35.401329</td>\n",
       "    </tr>\n",
       "    <tr>\n",
       "      <th>...</th>\n",
       "      <td>...</td>\n",
       "      <td>...</td>\n",
       "    </tr>\n",
       "    <tr>\n",
       "      <th>244984</th>\n",
       "      <td>TEST_244984</td>\n",
       "      <td>22.041828</td>\n",
       "    </tr>\n",
       "    <tr>\n",
       "      <th>244985</th>\n",
       "      <td>TEST_244985</td>\n",
       "      <td>221.651382</td>\n",
       "    </tr>\n",
       "    <tr>\n",
       "      <th>244986</th>\n",
       "      <td>TEST_244986</td>\n",
       "      <td>0.000000</td>\n",
       "    </tr>\n",
       "    <tr>\n",
       "      <th>244987</th>\n",
       "      <td>TEST_244987</td>\n",
       "      <td>0.000000</td>\n",
       "    </tr>\n",
       "    <tr>\n",
       "      <th>244988</th>\n",
       "      <td>TEST_244988</td>\n",
       "      <td>53.185410</td>\n",
       "    </tr>\n",
       "  </tbody>\n",
       "</table>\n",
       "<p>244989 rows × 2 columns</p>\n",
       "</div>"
      ],
      "text/plain": [
       "          SAMPLE_ID     CI_HOUR\n",
       "0       TEST_000000   21.710665\n",
       "1       TEST_000001   83.465950\n",
       "2       TEST_000002    0.000000\n",
       "3       TEST_000003    0.000000\n",
       "4       TEST_000004   35.401329\n",
       "...             ...         ...\n",
       "244984  TEST_244984   22.041828\n",
       "244985  TEST_244985  221.651382\n",
       "244986  TEST_244986    0.000000\n",
       "244987  TEST_244987    0.000000\n",
       "244988  TEST_244988   53.185410\n",
       "\n",
       "[244989 rows x 2 columns]"
      ]
     },
     "execution_count": 3,
     "metadata": {},
     "output_type": "execute_result"
    }
   ],
   "source": [
    "y_test"
   ]
  }
 ],
 "metadata": {
  "kernelspec": {
   "display_name": "kwon",
   "language": "python",
   "name": "python3"
  },
  "language_info": {
   "codemirror_mode": {
    "name": "ipython",
    "version": 3
   },
   "file_extension": ".py",
   "mimetype": "text/x-python",
   "name": "python",
   "nbconvert_exporter": "python",
   "pygments_lexer": "ipython3",
   "version": "3.11.2"
  }
 },
 "nbformat": 4,
 "nbformat_minor": 2
}
