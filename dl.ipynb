{
 "cells": [
  {
   "cell_type": "code",
   "execution_count": null,
   "metadata": {},
   "outputs": [],
   "source": [
    "import numpy as np\n",
    "import pandas as pd\n",
    "from sklearn.model_selection import train_test_split\n",
    "\n",
    "import torch\n",
    "from torch import nn\n",
    "from torch.utils.data import TensorDataset, DataLoader\n",
    "\n",
    "from Baseline import Baseline\n",
    "from RegressionTrainingTools import Trainer\n",
    "device = torch.device('cuda')"
   ]
  },
  {
   "cell_type": "code",
   "execution_count": null,
   "metadata": {},
   "outputs": [],
   "source": [
    "x_train = pd.read_csv('data/train_preprocessed.csv', engine='pyarrow')\n",
    "x_test = pd.read_csv('data/test_preprocessed.csv', engine='pyarrow')\n",
    "\n",
    "x_train = x_train.loc[x_train.CI_HOUR!=0, :]"
   ]
  },
  {
   "cell_type": "code",
   "execution_count": null,
   "metadata": {},
   "outputs": [],
   "source": [
    "x_train.head()"
   ]
  },
  {
   "cell_type": "markdown",
   "metadata": {},
   "source": [
    "# Preprocessing"
   ]
  },
  {
   "cell_type": "code",
   "execution_count": null,
   "metadata": {},
   "outputs": [],
   "source": [
    "drop_columns = ['ATA', 'SHIPMANAGER', 'FLAG', 'ARI', 'U_WIND', 'V_WIND', 'AIR_TEMPERATURE', 'BN']\n",
    "x_train.drop(columns=drop_columns, inplace=True)\n",
    "x_test.drop(columns=drop_columns, inplace=True)"
   ]
  },
  {
   "cell_type": "code",
   "execution_count": null,
   "metadata": {},
   "outputs": [],
   "source": [
    "x_train.head()"
   ]
  },
  {
   "cell_type": "code",
   "execution_count": null,
   "metadata": {},
   "outputs": [],
   "source": [
    "from sklearn.preprocessing import MinMaxScaler\n",
    "\n",
    "scaling_columns = ['DEADWEIGHT', 'PORT_SIZE', 'DUBAI', 'BDI_ADJ', 'BREADTH', 'DEPTH', 'DRAUGHT']\n",
    "scaler = MinMaxScaler(feature_range=(-1, 1))\n",
    "x_train.loc[:, scaling_columns] = scaler.fit_transform(x_train.loc[:, scaling_columns])\n",
    "x_test.loc[:, scaling_columns] = scaler.transform(x_test.loc[:, scaling_columns])"
   ]
  },
  {
   "cell_type": "code",
   "execution_count": null,
   "metadata": {},
   "outputs": [],
   "source": [
    "x_train.head()"
   ]
  },
  {
   "cell_type": "code",
   "execution_count": null,
   "metadata": {},
   "outputs": [],
   "source": [
    "print(x_train.shape[1]-1 == x_test.shape[1])"
   ]
  },
  {
   "cell_type": "code",
   "execution_count": null,
   "metadata": {},
   "outputs": [],
   "source": [
    "x_test.to_csv('data/test_4dl.csv', encoding='UTF-8', index=False)\n",
    "x_test = x_test.loc[x_test.DIST!=0, :]"
   ]
  },
  {
   "cell_type": "markdown",
   "metadata": {},
   "source": [
    "# Data Preparation"
   ]
  },
  {
   "cell_type": "code",
   "execution_count": null,
   "metadata": {},
   "outputs": [],
   "source": [
    "y_train = np.log(x_train.CI_HOUR.copy() + 1)\n",
    "x_train.drop(columns=['CI_HOUR'], inplace=True)\n",
    "\n",
    "x_train = torch.FloatTensor(x_train.values)\n",
    "y_train = torch.FloatTensor(y_train.values)\n",
    "x_test = torch.FloatTensor(x_test.values)\n",
    "x_train, x_val, y_train, y_val = train_test_split(x_train, y_train, random_state=42, test_size=0.2)\n",
    "\n",
    "train_dataset = TensorDataset(x_train, y_train)\n",
    "val_dataset = TensorDataset(x_val, y_val)\n",
    "test_dataset = TensorDataset(x_test)\n",
    "\n",
    "train_loader = DataLoader(train_dataset, batch_size=256, shuffle=True)\n",
    "val_loader = DataLoader(val_dataset, batch_size=1024, shuffle=False)\n",
    "test_loader = DataLoader(test_dataset, batch_size=1024, shuffle=False)"
   ]
  },
  {
   "cell_type": "markdown",
   "metadata": {},
   "source": [
    "# Modeling"
   ]
  },
  {
   "cell_type": "code",
   "execution_count": null,
   "metadata": {},
   "outputs": [],
   "source": [
    "model = Baseline(input_dim=12).to(device)\n",
    "optimizer = torch.optim.Adam(model.parameters(), lr=1e-3)\n",
    "criterion = nn.MSELoss()"
   ]
  },
  {
   "cell_type": "code",
   "execution_count": null,
   "metadata": {},
   "outputs": [],
   "source": [
    "trainer = Trainer(criterion, device, save_path='checkpoints/best_model.pt')\n",
    "best_model = trainer.train(model, optimizer, train_loader, val_loader, patience=7, epochs=100)"
   ]
  },
  {
   "cell_type": "code",
   "execution_count": null,
   "metadata": {},
   "outputs": [],
   "source": [
    "trainer.test(val_loader)"
   ]
  }
 ],
 "metadata": {
  "kernelspec": {
   "display_name": "kwon",
   "language": "python",
   "name": "python3"
  },
  "language_info": {
   "codemirror_mode": {
    "name": "ipython",
    "version": 3
   },
   "file_extension": ".py",
   "mimetype": "text/x-python",
   "name": "python",
   "nbconvert_exporter": "python",
   "pygments_lexer": "ipython3",
   "version": "3.11.3"
  },
  "orig_nbformat": 4
 },
 "nbformat": 4,
 "nbformat_minor": 2
}
